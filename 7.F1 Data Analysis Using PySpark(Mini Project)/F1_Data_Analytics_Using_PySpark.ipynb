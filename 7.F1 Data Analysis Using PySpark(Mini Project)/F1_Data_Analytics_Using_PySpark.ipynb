{
 "cells": [
  {
   "cell_type": "code",
   "execution_count": 1,
   "id": "60f5e93b-511a-49a5-be42-8dd810de3113",
   "metadata": {},
   "outputs": [
    {
     "data": {
      "text/html": [
       "\n",
       "        <div>\n",
       "            <p><b>SparkContext</b></p>\n",
       "\n",
       "            <p><a href=\"http://Ashu:4041\">Spark UI</a></p>\n",
       "\n",
       "            <dl>\n",
       "              <dt>Version</dt>\n",
       "                <dd><code>v3.5.0</code></dd>\n",
       "              <dt>Master</dt>\n",
       "                <dd><code>local[*]</code></dd>\n",
       "              <dt>AppName</dt>\n",
       "                <dd><code>PySparkShell</code></dd>\n",
       "            </dl>\n",
       "        </div>\n",
       "        "
      ],
      "text/plain": [
       "<SparkContext master=local[*] appName=PySparkShell>"
      ]
     },
     "execution_count": 1,
     "metadata": {},
     "output_type": "execute_result"
    }
   ],
   "source": [
    "sc"
   ]
  },
  {
   "cell_type": "code",
   "execution_count": 2,
   "id": "c56e4631-82b2-4b06-a0d2-35f4266c6009",
   "metadata": {},
   "outputs": [
    {
     "name": "stdout",
     "output_type": "stream",
     "text": [
      "root\n",
      " |-- resultId: integer (nullable = true)\n",
      " |-- raceId: integer (nullable = true)\n",
      " |-- driverId: integer (nullable = true)\n",
      " |-- constructorId: integer (nullable = true)\n",
      " |-- number_x: string (nullable = true)\n",
      " |-- grid: integer (nullable = true)\n",
      " |-- position: string (nullable = true)\n",
      " |-- positionText: string (nullable = true)\n",
      " |-- positionOrder: integer (nullable = true)\n",
      " |-- points: double (nullable = true)\n",
      " |-- laps: integer (nullable = true)\n",
      " |-- time_x: string (nullable = true)\n",
      " |-- milliseconds: string (nullable = true)\n",
      " |-- fastestLap: string (nullable = true)\n",
      " |-- rank: string (nullable = true)\n",
      " |-- fastestLapTime: string (nullable = true)\n",
      " |-- fastestLapSpeed: string (nullable = true)\n",
      " |-- statusId: integer (nullable = true)\n",
      " |-- year: integer (nullable = true)\n",
      " |-- round: integer (nullable = true)\n",
      " |-- circuitId: integer (nullable = true)\n",
      " |-- name_x: string (nullable = true)\n",
      " |-- date: date (nullable = true)\n",
      " |-- time_y: string (nullable = true)\n",
      " |-- url_x: string (nullable = true)\n",
      " |-- fp1_date: string (nullable = true)\n",
      " |-- fp1_time: string (nullable = true)\n",
      " |-- fp2_date: string (nullable = true)\n",
      " |-- fp2_time: string (nullable = true)\n",
      " |-- fp3_date: string (nullable = true)\n",
      " |-- fp3_time: string (nullable = true)\n",
      " |-- quali_date: string (nullable = true)\n",
      " |-- quali_time: string (nullable = true)\n",
      " |-- sprint_date: string (nullable = true)\n",
      " |-- sprint_time: string (nullable = true)\n",
      " |-- circuitRef: string (nullable = true)\n",
      " |-- name_y: string (nullable = true)\n",
      " |-- location: string (nullable = true)\n",
      " |-- country: string (nullable = true)\n",
      " |-- lat: double (nullable = true)\n",
      " |-- lng: double (nullable = true)\n",
      " |-- alt: integer (nullable = true)\n",
      " |-- url_y: string (nullable = true)\n",
      " |-- driverRef: string (nullable = true)\n",
      " |-- number_y: string (nullable = true)\n",
      " |-- code: string (nullable = true)\n",
      " |-- forename: string (nullable = true)\n",
      " |-- surname: string (nullable = true)\n",
      " |-- dob: date (nullable = true)\n",
      " |-- nationality: string (nullable = true)\n",
      " |-- url: string (nullable = true)\n",
      "\n",
      "+--------+------+--------+-------------+--------+----+--------+------------+-------------+------+----+-----------+------------+----------+----+--------------+---------------+--------+----+-----+---------+--------------------+----------+--------+--------------------+--------+--------+--------+--------+--------+--------+----------+----------+-----------+-----------+-----------+--------------------+---------+---------+--------+-------+---+--------------------+----------+--------+----+--------+----------+----------+-----------+--------------------+\n",
      "|resultId|raceId|driverId|constructorId|number_x|grid|position|positionText|positionOrder|points|laps|     time_x|milliseconds|fastestLap|rank|fastestLapTime|fastestLapSpeed|statusId|year|round|circuitId|              name_x|      date|  time_y|               url_x|fp1_date|fp1_time|fp2_date|fp2_time|fp3_date|fp3_time|quali_date|quali_time|sprint_date|sprint_time| circuitRef|              name_y| location|  country|     lat|    lng|alt|               url_y| driverRef|number_y|code|forename|   surname|       dob|nationality|                 url|\n",
      "+--------+------+--------+-------------+--------+----+--------+------------+-------------+------+----+-----------+------------+----------+----+--------------+---------------+--------+----+-----+---------+--------------------+----------+--------+--------------------+--------+--------+--------+--------+--------+--------+----------+----------+-----------+-----------+-----------+--------------------+---------+---------+--------+-------+---+--------------------+----------+--------+----+--------+----------+----------+-----------+--------------------+\n",
      "|       1|    18|       1|            1|      22|   1|       1|           1|            1|  10.0|  58|1:34:50.616|     5690616|        39|   2|      1:27.452|          218.3|       1|2008|    1|        1|Australian Grand ...|2008-03-16|04:30:00|http://en.wikiped...|      \\N|      \\N|      \\N|      \\N|      \\N|      \\N|        \\N|        \\N|         \\N|         \\N|albert_park|Albert Park Grand...|Melbourne|Australia|-37.8497|144.968| 10|http://en.wikiped...|  hamilton|      44| HAM|   Lewis|  Hamilton|1985-01-07|    British|http://en.wikiped...|\n",
      "|       2|    18|       2|            2|       3|   5|       2|           2|            2|   8.0|  58|     +5.478|     5696094|        41|   3|      1:27.739|        217.586|       1|2008|    1|        1|Australian Grand ...|2008-03-16|04:30:00|http://en.wikiped...|      \\N|      \\N|      \\N|      \\N|      \\N|      \\N|        \\N|        \\N|         \\N|         \\N|albert_park|Albert Park Grand...|Melbourne|Australia|-37.8497|144.968| 10|http://en.wikiped...|  heidfeld|      \\N| HEI|    Nick|  Heidfeld|1977-05-10|     German|http://en.wikiped...|\n",
      "|       3|    18|       3|            3|       7|   7|       3|           3|            3|   6.0|  58|     +8.163|     5698779|        41|   5|      1:28.090|        216.719|       1|2008|    1|        1|Australian Grand ...|2008-03-16|04:30:00|http://en.wikiped...|      \\N|      \\N|      \\N|      \\N|      \\N|      \\N|        \\N|        \\N|         \\N|         \\N|albert_park|Albert Park Grand...|Melbourne|Australia|-37.8497|144.968| 10|http://en.wikiped...|   rosberg|       6| ROS|    Nico|   Rosberg|1985-06-27|     German|http://en.wikiped...|\n",
      "|       4|    18|       4|            4|       5|  11|       4|           4|            4|   5.0|  58|    +17.181|     5707797|        58|   7|      1:28.603|        215.464|       1|2008|    1|        1|Australian Grand ...|2008-03-16|04:30:00|http://en.wikiped...|      \\N|      \\N|      \\N|      \\N|      \\N|      \\N|        \\N|        \\N|         \\N|         \\N|albert_park|Albert Park Grand...|Melbourne|Australia|-37.8497|144.968| 10|http://en.wikiped...|    alonso|      14| ALO|Fernando|    Alonso|1981-07-29|    Spanish|http://en.wikiped...|\n",
      "|       5|    18|       5|            1|      23|   3|       5|           5|            5|   4.0|  58|    +18.014|     5708630|        43|   1|      1:27.418|        218.385|       1|2008|    1|        1|Australian Grand ...|2008-03-16|04:30:00|http://en.wikiped...|      \\N|      \\N|      \\N|      \\N|      \\N|      \\N|        \\N|        \\N|         \\N|         \\N|albert_park|Albert Park Grand...|Melbourne|Australia|-37.8497|144.968| 10|http://en.wikiped...|kovalainen|      \\N| KOV|  Heikki|Kovalainen|1981-10-19|    Finnish|http://en.wikiped...|\n",
      "+--------+------+--------+-------------+--------+----+--------+------------+-------------+------+----+-----------+------------+----------+----+--------------+---------------+--------+----+-----+---------+--------------------+----------+--------+--------------------+--------+--------+--------+--------+--------+--------+----------+----------+-----------+-----------+-----------+--------------------+---------+---------+--------+-------+---+--------------------+----------+--------+----+--------+----------+----------+-----------+--------------------+\n",
      "only showing top 5 rows\n",
      "\n"
     ]
    }
   ],
   "source": [
    "from pyspark.sql import SparkSession\n",
    "from pyspark.sql.functions import col, when, count, avg, sum as _sum\n",
    "\n",
    "# Start Spark\n",
    "spark = SparkSession.builder.appName(\"F1_Data_Analytics\").getOrCreate()\n",
    "\n",
    "# Load Dataset\n",
    "df = spark.read.csv(r\"file:///C:/Users/Ankita/Downloads/f1_analytics_dataset.csv\", header=True, inferSchema=True)\n",
    "\n",
    "# Show schema & sample\n",
    "df.printSchema()\n",
    "df.show(5)\n"
   ]
  },
  {
   "cell_type": "code",
   "execution_count": 3,
   "id": "aa28e013-8ab6-4aa5-99f2-5ce05407f1f5",
   "metadata": {},
   "outputs": [],
   "source": [
    "# Drop duplicates\n",
    "df = df.dropDuplicates()\n",
    "\n",
    "# Drop nulls\n",
    "df = df.na.drop()\n",
    "\n",
    "# Create a \"win\" column\n",
    "df = df.withColumn(\"win\", when(col(\"positionOrder\") == 1, 1).otherwise(0))\n"
   ]
  },
  {
   "cell_type": "code",
   "execution_count": 17,
   "id": "35d052b7-dd0a-4351-aaef-2d357e9a6f1e",
   "metadata": {},
   "outputs": [
    {
     "name": "stdout",
     "output_type": "stream",
     "text": [
      "+--------------+-------------------+---------------+\n",
      "|Unique_Drivers|Unique_Constructors|Unique_Circuits|\n",
      "+--------------+-------------------+---------------+\n",
      "|           861|                211|             77|\n",
      "+--------------+-------------------+---------------+\n",
      "\n"
     ]
    }
   ],
   "source": [
    "# 1. Count unique drivers, constructors, circuits\n",
    "from pyspark.sql.functions import countDistinct\n",
    "\n",
    "df.select(\n",
    "    countDistinct(\"driverId\").alias(\"Unique_Drivers\"),\n",
    "    countDistinct(\"constructorId\").alias(\"Unique_Constructors\"),\n",
    "    countDistinct(\"circuitId\").alias(\"Unique_Circuits\")\n",
    ").show()\n"
   ]
  },
  {
   "cell_type": "code",
   "execution_count": 18,
   "id": "fd67f90a-550e-4365-a3da-15c31652546e",
   "metadata": {},
   "outputs": [
    {
     "name": "stdout",
     "output_type": "stream",
     "text": [
      "+------------------+------------+\n",
      "|       driver_name|total_points|\n",
      "+------------------+------------+\n",
      "|    Lewis Hamilton|      4820.5|\n",
      "|  Sebastian Vettel|      3098.0|\n",
      "|    Max Verstappen|      2912.5|\n",
      "|   Fernando Alonso|      2329.0|\n",
      "|    Kimi Räikkönen|      1873.0|\n",
      "|   Valtteri Bottas|      1788.0|\n",
      "|      Nico Rosberg|      1594.5|\n",
      "|      Sergio Pérez|      1585.0|\n",
      "|Michael Schumacher|      1566.0|\n",
      "|   Charles Leclerc|      1363.0|\n",
      "+------------------+------------+\n",
      "only showing top 10 rows\n",
      "\n"
     ]
    }
   ],
   "source": [
    "# 2. Top drivers by total points\n",
    "from pyspark.sql.functions import concat_ws, col, sum as _sum\n",
    "\n",
    "df.withColumn(\"driver_name\", concat_ws(\" \", col(\"forename\"), col(\"surname\"))) \\\n",
    "  .groupBy(\"driver_name\") \\\n",
    "  .agg(_sum(\"points\").alias(\"total_points\")) \\\n",
    "  .orderBy(col(\"total_points\").desc()) \\\n",
    "  .show(10)\n"
   ]
  },
  {
   "cell_type": "code",
   "execution_count": 19,
   "id": "b9759326-4bdf-46e9-8d22-4a85b313f191",
   "metadata": {},
   "outputs": [
    {
     "name": "stdout",
     "output_type": "stream",
     "text": [
      "+-------------+------------------+\n",
      "|constructorId|      total_points|\n",
      "+-------------+------------------+\n",
      "|            6|11091.269999999999|\n",
      "|          131| 7730.639999999999|\n",
      "|            9|            7673.0|\n",
      "|            1|            7022.5|\n",
      "|            3|            3641.0|\n",
      "|            4|            1777.0|\n",
      "|           10|            1098.0|\n",
      "|           32|             995.0|\n",
      "|           22|             861.5|\n",
      "|           25|             711.0|\n",
      "+-------------+------------------+\n",
      "only showing top 10 rows\n",
      "\n"
     ]
    }
   ],
   "source": [
    "# 3. Top teams by total points\n",
    "df.groupBy(\"constructorId\") \\\n",
    "  .agg(_sum(\"points\").alias(\"total_points\")) \\\n",
    "  .orderBy(col(\"total_points\").desc()) \\\n",
    "  .show(10)\n"
   ]
  },
  {
   "cell_type": "code",
   "execution_count": 20,
   "id": "8fc7a25f-739a-402c-a0c3-cb95197332cd",
   "metadata": {},
   "outputs": [
    {
     "name": "stdout",
     "output_type": "stream",
     "text": [
      "+------------------+----+\n",
      "|       driver_name|wins|\n",
      "+------------------+----+\n",
      "|    Lewis Hamilton| 105|\n",
      "|Michael Schumacher|  91|\n",
      "|    Max Verstappen|  63|\n",
      "|  Sebastian Vettel|  53|\n",
      "|       Alain Prost|  51|\n",
      "|      Ayrton Senna|  41|\n",
      "|   Fernando Alonso|  32|\n",
      "|     Nigel Mansell|  31|\n",
      "|    Jackie Stewart|  27|\n",
      "|         Jim Clark|  25|\n",
      "+------------------+----+\n",
      "only showing top 10 rows\n",
      "\n"
     ]
    }
   ],
   "source": [
    "# 4. Drivers with most wins\n",
    "from pyspark.sql.functions import when, sum as _sum\n",
    "\n",
    "df.withColumn(\"driver_name\", concat_ws(\" \", col(\"forename\"), col(\"surname\"))) \\\n",
    "  .withColumn(\"win\", when(col(\"positionOrder\") == 1, 1).otherwise(0)) \\\n",
    "  .groupBy(\"driver_name\") \\\n",
    "  .agg(_sum(\"win\").alias(\"wins\")) \\\n",
    "  .orderBy(col(\"wins\").desc()) \\\n",
    "  .show(10)\n"
   ]
  },
  {
   "cell_type": "code",
   "execution_count": 21,
   "id": "b053352f-d4e9-40fd-ae7f-c43f7ad7f2db",
   "metadata": {},
   "outputs": [
    {
     "name": "stdout",
     "output_type": "stream",
     "text": [
      "+------------------+-----+\n",
      "|       driver_name|count|\n",
      "+------------------+-----+\n",
      "|    Lewis Hamilton|  202|\n",
      "|Michael Schumacher|  155|\n",
      "|  Sebastian Vettel|  122|\n",
      "|    Max Verstappen|  112|\n",
      "|       Alain Prost|  106|\n",
      "|   Fernando Alonso|  106|\n",
      "|    Kimi Räikkönen|  103|\n",
      "|      Ayrton Senna|   80|\n",
      "|Rubens Barrichello|   68|\n",
      "|   Valtteri Bottas|   67|\n",
      "+------------------+-----+\n",
      "only showing top 10 rows\n",
      "\n"
     ]
    }
   ],
   "source": [
    "# 5. Podium finishes per driver\n",
    "df.filter(col(\"positionOrder\") <= 3) \\\n",
    "  .withColumn(\"driver_name\", concat_ws(\" \", col(\"forename\"), col(\"surname\"))) \\\n",
    "  .groupBy(\"driver_name\") \\\n",
    "  .count() \\\n",
    "  .orderBy(col(\"count\").desc()) \\\n",
    "  .show(10)\n"
   ]
  },
  {
   "cell_type": "code",
   "execution_count": 22,
   "id": "0fb42dda-9a38-4f61-97ff-6f99dac83cfb",
   "metadata": {},
   "outputs": [
    {
     "name": "stdout",
     "output_type": "stream",
     "text": [
      "+---------------+------------------+-----------------+\n",
      "|    driver_name|          avg_grid|       avg_finish|\n",
      "+---------------+------------------+-----------------+\n",
      "|   George Amick|              25.0|              2.0|\n",
      "|Dorino Serafini|               6.0|              2.0|\n",
      "|    Lee Wallard|              12.5|              3.5|\n",
      "|  Luigi Fagioli|             3.625|            4.375|\n",
      "|    Juan Fangio|2.4827586206896552|4.793103448275862|\n",
      "|  Eric Thompson|               9.0|              5.0|\n",
      "|   Oscar Gálvez|               9.0|              5.0|\n",
      "|  Joie Chitwood|               9.0|              5.0|\n",
      "| Lewis Hamilton| 4.300561797752809|5.019662921348314|\n",
      "| Max Verstappen| 4.956937799043062|5.645933014354067|\n",
      "+---------------+------------------+-----------------+\n",
      "only showing top 10 rows\n",
      "\n"
     ]
    }
   ],
   "source": [
    "# 6. Average grid vs average finish\n",
    "from pyspark.sql.functions import avg\n",
    "\n",
    "df.withColumn(\"driver_name\", concat_ws(\" \", col(\"forename\"), col(\"surname\"))) \\\n",
    "  .groupBy(\"driver_name\") \\\n",
    "  .agg(\n",
    "      avg(\"grid\").alias(\"avg_grid\"),\n",
    "      avg(\"positionOrder\").alias(\"avg_finish\")\n",
    "  ) \\\n",
    "  .orderBy(\"avg_finish\") \\\n",
    "  .show(10)\n"
   ]
  },
  {
   "cell_type": "code",
   "execution_count": 30,
   "id": "c8e33983-04c3-45f3-8393-e9969446de00",
   "metadata": {},
   "outputs": [
    {
     "name": "stdout",
     "output_type": "stream",
     "text": [
      "+----+----------------+------------+\n",
      "|year|     driver_name|total_points|\n",
      "+----+----------------+------------+\n",
      "|2023|  Max Verstappen|       530.0|\n",
      "|2023|    Sergio Pérez|       260.0|\n",
      "|2023|  Lewis Hamilton|       217.0|\n",
      "|2023| Fernando Alonso|       198.0|\n",
      "|2023| Charles Leclerc|       185.0|\n",
      "|2023|    Lando Norris|       184.0|\n",
      "|2023|    Carlos Sainz|       178.0|\n",
      "|2023|  George Russell|       157.0|\n",
      "|2023|   Oscar Piastri|        82.0|\n",
      "|2023|    Lance Stroll|        68.0|\n",
      "|2023|    Esteban Ocon|        56.0|\n",
      "|2023|    Pierre Gasly|        54.0|\n",
      "|2023| Alexander Albon|        25.0|\n",
      "|2023|    Yuki Tsunoda|        14.0|\n",
      "|2023| Valtteri Bottas|        10.0|\n",
      "|2023| Nico Hülkenberg|         6.0|\n",
      "|2023|Daniel Ricciardo|         6.0|\n",
      "|2023|     Guanyu Zhou|         6.0|\n",
      "|2023| Kevin Magnussen|         3.0|\n",
      "|2023|     Liam Lawson|         2.0|\n",
      "+----+----------------+------------+\n",
      "only showing top 20 rows\n",
      "\n"
     ]
    }
   ],
   "source": [
    "# 7. Season-wise driver points (only 2023–2024)\n",
    "df.withColumn(\"driver_name\", concat_ws(\" \", col(\"forename\"), col(\"surname\"))) \\\n",
    "  .filter((col(\"year\") >= 2023) & (col(\"year\") <= 2024)) \\\n",
    "  .groupBy(\"year\", \"driver_name\") \\\n",
    "  .agg(_sum(\"points\").alias(\"total_points\")) \\\n",
    "  .orderBy(\"year\", col(\"total_points\").desc()) \\\n",
    "  .show(20)\n"
   ]
  },
  {
   "cell_type": "code",
   "execution_count": 24,
   "id": "f2e5b162-3506-4123-bb89-f67660430f99",
   "metadata": {},
   "outputs": [
    {
     "name": "stdout",
     "output_type": "stream",
     "text": [
      "+-------+-----+\n",
      "|country|count|\n",
      "+-------+-----+\n",
      "|  Italy| 2647|\n",
      "|    USA| 2011|\n",
      "|     UK| 1974|\n",
      "|Germany| 1926|\n",
      "| Monaco| 1664|\n",
      "|Belgium| 1597|\n",
      "| France| 1513|\n",
      "|  Spain| 1438|\n",
      "| Canada| 1291|\n",
      "| Brazil| 1223|\n",
      "+-------+-----+\n",
      "only showing top 10 rows\n",
      "\n"
     ]
    }
   ],
   "source": [
    "# 8. Country-wise race distribution\n",
    "df.groupBy(\"country\") \\\n",
    "  .count() \\\n",
    "  .orderBy(col(\"count\").desc()) \\\n",
    "  .show(10)\n"
   ]
  },
  {
   "cell_type": "code",
   "execution_count": 25,
   "id": "d5044208-b3fd-4da6-b0dc-826095426959",
   "metadata": {},
   "outputs": [
    {
     "name": "stdout",
     "output_type": "stream",
     "text": [
      "Correlation (points, grid): -0.37565801135433413\n",
      "Correlation (points, laps): 0.24906379435340123\n"
     ]
    }
   ],
   "source": [
    "# 9. Correlation of points with grid and laps\n",
    "print(\"Correlation (points, grid):\", df.stat.corr(\"points\", \"grid\"))\n",
    "print(\"Correlation (points, laps):\", df.stat.corr(\"points\", \"laps\"))\n"
   ]
  },
  {
   "cell_type": "code",
   "execution_count": 26,
   "id": "ea754e61-a42d-4f9b-96b0-b32f2da713cd",
   "metadata": {},
   "outputs": [
    {
     "name": "stderr",
     "output_type": "stream",
     "text": [
      "C:\\Users\\Ankita\\AppData\\Local\\Temp\\ipykernel_20652\\762691178.py:13: FutureWarning: \n",
      "\n",
      "Passing `palette` without assigning `hue` is deprecated and will be removed in v0.14.0. Assign the `y` variable to `hue` and set `legend=False` for the same effect.\n",
      "\n",
      "  sns.barplot(x=\"total_points\", y=\"driver_name\", data=top_drivers, palette=\"viridis\")\n"
     ]
    },
    {
     "data": {
      "image/png": "[encoded data removed]",
      "text/plain": [
       "<Figure size 1000x600 with 1 Axes>"
      ]
     },
     "metadata": {},
     "output_type": "display_data"
    }
   ],
   "source": [
    "# Plot 1: Top 10 drivers by total points\n",
    "import seaborn as sns\n",
    "import matplotlib.pyplot as plt\n",
    "\n",
    "top_drivers = df.withColumn(\"driver_name\", concat_ws(\" \", col(\"forename\"), col(\"surname\"))) \\\n",
    "  .groupBy(\"driver_name\") \\\n",
    "  .agg(_sum(\"points\").alias(\"total_points\")) \\\n",
    "  .orderBy(col(\"total_points\").desc()) \\\n",
    "  .limit(10) \\\n",
    "  .toPandas()\n",
    "\n",
    "plt.figure(figsize=(10,6))\n",
    "sns.barplot(x=\"total_points\", y=\"driver_name\", data=top_drivers, palette=\"viridis\")\n",
    "plt.title(\"Top 10 Drivers by Total Points\")\n",
    "plt.show()\n"
   ]
  },
  {
   "cell_type": "code",
   "execution_count": 27,
   "id": "fcab600b-2b0e-41cf-b9f6-8a3c6a87840f",
   "metadata": {},
   "outputs": [
    {
     "data": {
      "image/png": "[encoded data removed]",
      "text/plain": [
       "<Figure size 1200x600 with 1 Axes>"
      ]
     },
     "metadata": {},
     "output_type": "display_data"
    }
   ],
   "source": [
    "# Plot 2: Average points per season\n",
    "avg_points_per_season = df.groupBy(\"year\") \\\n",
    "    .agg(avg(\"points\").alias(\"avg_points\")) \\\n",
    "    .orderBy(\"year\") \\\n",
    "    .toPandas()\n",
    "\n",
    "plt.figure(figsize=(12,6))\n",
    "sns.lineplot(x=\"year\", y=\"avg_points\", data=avg_points_per_season, marker=\"o\")\n",
    "plt.title(\"Average Points per Season\")\n",
    "plt.show()\n"
   ]
  },
  {
   "cell_type": "code",
   "execution_count": 28,
   "id": "a2d82e42-b3b2-4e54-82f8-486f1065c7d2",
   "metadata": {},
   "outputs": [
    {
     "data": {
      "image/png": "[encoded data removed]",
      "text/plain": [
       "<Figure size 1000x600 with 1 Axes>"
      ]
     },
     "metadata": {},
     "output_type": "display_data"
    }
   ],
   "source": [
    "# Plot 3: Distribution of finishing positions\n",
    "finish_positions = df.select(\"positionOrder\").toPandas()\n",
    "\n",
    "plt.figure(figsize=(10,6))\n",
    "sns.histplot(finish_positions[\"positionOrder\"], bins=20, kde=False, color=\"red\")\n",
    "plt.title(\"Distribution of Finishing Positions\")\n",
    "plt.xlabel(\"Position Order\")\n",
    "plt.ylabel(\"Frequency\")\n",
    "plt.show()\n"
   ]
  },
  {
   "cell_type": "code",
   "execution_count": null,
   "id": "aff44edf",
   "metadata": {},
   "outputs": [],
   "source": []
  },
  {
   "cell_type": "code",
   "execution_count": null,
   "id": "6248ea9b-4b16-4eb6-a679-719ba21e3358",
   "metadata": {},
   "outputs": [],
   "source": []
  },
  {
   "cell_type": "code",
   "execution_count": null,
   "id": "45cca6f6",
   "metadata": {},
   "outputs": [],
   "source": [
    "# Team/Constructor Performance Analysis\n",
    "print(\"\\n\" + \"=\" * 60)\n",
    "print(\"TEAM/CONSTRUCTOR PERFORMANCE ANALYSIS\")\n",
    "print(\"=\" * 60)\n",
    "\n",
    "# Top teams by various metrics\n",
    "team_performance = df.groupBy(\"constructorId\") \\\n",
    "  .agg(\n",
    "      _sum(\"points\").alias(\"total_points\"),\n",
    "      count(\"raceId\").alias(\"total_races\"),\n",
    "      _sum(when(col(\"positionOrder\") == 1, 1).otherwise(0)).alias(\"wins\"),\n",
    "      _sum(when(col(\"positionOrder\") <= 3, 1).otherwise(0)).alias(\"podiums\"),\n",
    "      avg(\"points\").alias(\"avg_points_per_race\"),\n",
    "      countDistinct(\"driverId\").alias(\"unique_drivers\")\n",
    "  ) \\\n",
    "  .withColumn(\"win_rate\", (col(\"wins\") / col(\"total_races\") * 100).cast(\"decimal(5,2)\")) \\\n",
    "  .withColumn(\"podium_rate\", (col(\"podiums\") / col(\"total_races\") * 100).cast(\"decimal(5,2)\")) \\\n",
    "  .orderBy(col(\"total_points\").desc()) \\\n",
    "  .limit(15)\n",
    "\n",
    "print(\"\\nTop 15 Teams by Total Points:\")\n",
    "print(\"-\" * 60)\n",
    "team_performance.select(\"constructorId\", \"total_points\", \"total_races\", \"wins\", \"win_rate\", \"podiums\", \"podium_rate\", \"unique_drivers\").show(15, truncate=False)\n"
   ]
  },
  {
   "cell_type": "markdown",
   "id": "3eb0c457",
   "metadata": {},
   "source": [
    "## 3. Statistical Insights and Correlations\n",
    "\n",
    "### 3.1 Performance Correlations\n",
    "Analyzing relationships between different performance metrics to identify key success factors.\n"
   ]
  },
  {
   "cell_type": "code",
   "execution_count": null,
   "id": "c05fde32",
   "metadata": {},
   "outputs": [],
   "source": [
    "# Statistical Analysis and Correlations\n",
    "print(\"\\n\" + \"=\" * 60)\n",
    "print(\"STATISTICAL INSIGHTS AND CORRELATIONS\")\n",
    "print(\"=\" * 60)\n",
    "\n",
    "# Key correlations\n",
    "print(\"\\nKey Performance Correlations:\")\n",
    "print(\"-\" * 40)\n",
    "print(f\"Points vs Grid Position: {df.stat.corr('points', 'grid'):.4f}\")\n",
    "print(f\"Points vs Laps Completed: {df.stat.corr('points', 'laps'):.4f}\")\n",
    "print(f\"Grid Position vs Finish Position: {df.stat.corr('grid', 'positionOrder'):.4f}\")\n",
    "\n",
    "# Performance by nationality\n",
    "print(\"\\n\" + \"=\" * 60)\n",
    "print(\"PERFORMANCE BY NATIONALITY\")\n",
    "print(\"=\" * 60)\n",
    "\n",
    "nationality_stats = df.groupBy(\"nationality\") \\\n",
    "  .agg(\n",
    "      countDistinct(\"driverId\").alias(\"drivers\"),\n",
    "      _sum(\"points\").alias(\"total_points\"),\n",
    "      _sum(when(col(\"positionOrder\") == 1, 1).otherwise(0)).alias(\"wins\"),\n",
    "      avg(\"points\").alias(\"avg_points_per_driver\")\n",
    "  ) \\\n",
    "  .orderBy(col(\"total_points\").desc()) \\\n",
    "  .limit(10)\n",
    "\n",
    "print(\"\\nTop 10 Countries by Total Points:\")\n",
    "print(\"-\" * 60)\n",
    "nationality_stats.show(10, truncate=False)\n"
   ]
  },
  {
   "cell_type": "markdown",
   "id": "9e3cffe7",
   "metadata": {},
   "source": [
    "## 4. Visualizations Summary\n",
    "\n",
    "### 4.1 Key Performance Charts\n",
    "The following visualizations provide graphical insights into F1 performance trends and distributions.\n"
   ]
  },
  {
   "cell_type": "code",
   "execution_count": null,
   "id": "3947ca18",
   "metadata": {},
   "outputs": [],
   "source": [
    "# Enhanced Visualizations for Report\n",
    "print(\"\\n\" + \"=\" * 60)\n",
    "print(\"GENERATING ENHANCED VISUALIZATIONS\")\n",
    "print(\"=\" * 60)\n",
    "\n",
    "# Create a comprehensive visualization dashboard\n",
    "fig, axes = plt.subplots(2, 2, figsize=(16, 12))\n",
    "fig.suptitle('F1 Analytics Dashboard', fontsize=16, fontweight='bold')\n",
    "\n",
    "# 1. Top 10 Drivers by Points (Enhanced)\n",
    "top_drivers_viz = df.withColumn(\"driver_name\", concat_ws(\" \", col(\"forename\"), col(\"surname\"))) \\\n",
    "  .groupBy(\"driver_name\") \\\n",
    "  .agg(_sum(\"points\").alias(\"total_points\")) \\\n",
    "  .orderBy(col(\"total_points\").desc()) \\\n",
    "  .limit(10) \\\n",
    "  .toPandas()\n",
    "\n",
    "axes[0,0].barh(range(len(top_drivers_viz)), top_drivers_viz['total_points'], color='skyblue')\n",
    "axes[0,0].set_yticks(range(len(top_drivers_viz)))\n",
    "axes[0,0].set_yticklabels(top_drivers_viz['driver_name'], fontsize=8)\n",
    "axes[0,0].set_xlabel('Total Points')\n",
    "axes[0,0].set_title('Top 10 Drivers by Total Points')\n",
    "\n",
    "# 2. Win Distribution by Decade\n",
    "decade_wins = df.withColumn(\"decade\", (col(\"year\") // 10) * 10) \\\n",
    "  .filter(col(\"positionOrder\") == 1) \\\n",
    "  .groupBy(\"decade\") \\\n",
    "  .count() \\\n",
    "  .orderBy(\"decade\") \\\n",
    "  .toPandas()\n",
    "\n",
    "axes[0,1].plot(decade_wins['decade'], decade_wins['count'], marker='o', linewidth=2, markersize=6)\n",
    "axes[0,1].set_xlabel('Decade')\n",
    "axes[0,1].set_ylabel('Number of Wins')\n",
    "axes[0,1].set_title('Win Distribution by Decade')\n",
    "axes[0,1].grid(True, alpha=0.3)\n",
    "\n",
    "# 3. Circuit Distribution by Country\n",
    "circuit_country = df.groupBy(\"country\") \\\n",
    "  .count() \\\n",
    "  .orderBy(col(\"count\").desc()) \\\n",
    "  .limit(8) \\\n",
    "  .toPandas()\n",
    "\n",
    "axes[1,0].pie(circuit_country['count'], labels=circuit_country['country'], autopct='%1.1f%%', startangle=90)\n",
    "axes[1,0].set_title('Race Distribution by Country (Top 8)')\n",
    "\n",
    "# 4. Points vs Grid Position Scatter\n",
    "sample_data = df.sample(0.1).select(\"grid\", \"points\", \"positionOrder\").toPandas()\n",
    "axes[1,1].scatter(sample_data['grid'], sample_data['points'], alpha=0.5, s=20)\n",
    "axes[1,1].set_xlabel('Grid Position')\n",
    "axes[1,1].set_ylabel('Points Earned')\n",
    "axes[1,1].set_title('Points vs Grid Position (10% Sample)')\n",
    "axes[1,1].grid(True, alpha=0.3)\n",
    "\n",
    "plt.tight_layout()\n",
    "plt.show()\n",
    "\n",
    "print(\"\\nVisualization dashboard generated successfully!\")\n"
   ]
  },
  {
   "cell_type": "markdown",
   "id": "e9aab850",
   "metadata": {},
   "source": []
  }
 ],
 "metadata": {
  "kernelspec": {
   "display_name": "Python 3 (ipykernel)",
   "language": "python",
   "name": "python3"
  },
  "language_info": {
   "codemirror_mode": {
    "name": "ipython",
    "version": 3
   },
   "file_extension": ".py",
   "mimetype": "text/x-python",
   "name": "python",
   "nbconvert_exporter": "python",
   "pygments_lexer": "ipython3",
   "version": "3.11.4"
  }
 },
 "nbformat": 4,
 "nbformat_minor": 5
}
