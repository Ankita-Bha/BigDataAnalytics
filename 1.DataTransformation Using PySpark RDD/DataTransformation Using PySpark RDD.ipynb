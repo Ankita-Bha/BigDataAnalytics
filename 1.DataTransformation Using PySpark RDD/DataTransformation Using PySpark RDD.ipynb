{
 "cells": [
  {
   "cell_type": "code",
   "execution_count": 1,
   "id": "feabd83c-2368-4f1f-8c9f-767d1819ed89",
   "metadata": {},
   "outputs": [
    {
     "data": {
      "text/html": [
       "\n",
       "        <div>\n",
       "            <p><b>SparkContext</b></p>\n",
       "\n",
       "            <p><a href=\"http://Ashu:4042\">Spark UI</a></p>\n",
       "\n",
       "            <dl>\n",
       "              <dt>Version</dt>\n",
       "                <dd><code>v3.5.0</code></dd>\n",
       "              <dt>Master</dt>\n",
       "                <dd><code>local[*]</code></dd>\n",
       "              <dt>AppName</dt>\n",
       "                <dd><code>PySparkShell</code></dd>\n",
       "            </dl>\n",
       "        </div>\n",
       "        "
      ],
      "text/plain": [
       "<SparkContext master=local[*] appName=PySparkShell>"
      ]
     },
     "execution_count": 1,
     "metadata": {},
     "output_type": "execute_result"
    }
   ],
   "source": [
    "sc"
   ]
  },
  {
   "cell_type": "code",
   "execution_count": 2,
   "id": "8ccc442c-0f84-4ccb-9a86-07c2b2872213",
   "metadata": {},
   "outputs": [],
   "source": [
    "import random"
   ]
  },
  {
   "cell_type": "code",
   "execution_count": 3,
   "id": "7d1e8719-42fd-450c-a2af-29afaad261eb",
   "metadata": {},
   "outputs": [
    {
     "name": "stdout",
     "output_type": "stream",
     "text": [
      "Original List:\n",
      "[908, 304, 39, 504, 747, 423, 336, 33, 324, 711, 876, 702, 494, 628, 996, 310, 391, 963, 422, 786, 663, 544, 253, 239, 819, 147, 241, 27, 429, 526, 267, 826, 886, 442, 621, 65, 458, 110, 46, 986, 331, 866, 225, 130, 938, 829, 565, 779, 1, 727, 807, 98, 114, 316, 909, 876, 980, 878, 279, 13, 814, 549, 480, 55, 200, 383, 812, 968, 829, 366, 940, 878, 780, 642, 871, 408, 661, 670, 482, 554, 833, 728, 709, 457, 856, 865, 11, 441, 330, 682, 152, 564, 407, 289, 629, 980, 97, 649, 299, 230]\n"
     ]
    }
   ],
   "source": [
    "random_numbers = [random.randint(1,1000) for _ in range(100)]\n",
    "print(\"Original List:\")\n",
    "print(random_numbers)"
   ]
  },
  {
   "cell_type": "code",
   "execution_count": 4,
   "id": "4285bb48-7ea3-498f-ae58-9642feda461d",
   "metadata": {},
   "outputs": [],
   "source": [
    "numbers_rdd = sc.parallelize(random_numbers)"
   ]
  },
  {
   "cell_type": "code",
   "execution_count": 5,
   "id": "b0308afa-344e-4793-9c68-61d85be41e94",
   "metadata": {},
   "outputs": [],
   "source": [
    "even_numbers_rdd = numbers_rdd.filter(lambda x: x % 2 == 0)"
   ]
  },
  {
   "cell_type": "code",
   "execution_count": 6,
   "id": "a8520314-6164-4877-9b8a-107bb22bcfcb",
   "metadata": {},
   "outputs": [
    {
     "name": "stdout",
     "output_type": "stream",
     "text": [
      "\n",
      " Even Numbers:\n",
      "[908, 304, 504, 336, 324, 876, 702, 494, 628, 996, 310, 422, 786, 544, 526, 826, 886, 442, 458, 110, 46, 986, 866, 130, 938, 98, 114, 316, 876, 980, 878, 814, 480, 200, 812, 968, 366, 940, 878, 780, 642, 408, 670, 482, 554, 728, 856, 330, 682, 152, 564, 980, 230]\n"
     ]
    }
   ],
   "source": [
    "even_numbers = even_numbers_rdd.collect()\n",
    "print(\"\\n Even Numbers:\")\n",
    "print(even_numbers)"
   ]
  },
  {
   "cell_type": "code",
   "execution_count": null,
   "id": "135f792e-9c43-44e7-a43c-dab6821b67cf",
   "metadata": {},
   "outputs": [],
   "source": []
  }
 ],
 "metadata": {
  "kernelspec": {
   "display_name": "Python 3 (ipykernel)",
   "language": "python",
   "name": "python3"
  },
  "language_info": {
   "codemirror_mode": {
    "name": "ipython",
    "version": 3
   },
   "file_extension": ".py",
   "mimetype": "text/x-python",
   "name": "python",
   "nbconvert_exporter": "python",
   "pygments_lexer": "ipython3",
   "version": "3.11.4"
  }
 },
 "nbformat": 4,
 "nbformat_minor": 5
}
